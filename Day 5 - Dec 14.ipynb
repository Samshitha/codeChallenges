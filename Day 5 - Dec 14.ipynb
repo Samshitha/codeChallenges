{
 "cells": [
  {
   "cell_type": "markdown",
   "metadata": {},
   "source": [
    "## Remove vowel characters from string and print it."
   ]
  },
  {
   "cell_type": "code",
   "execution_count": 1,
   "metadata": {},
   "outputs": [
    {
     "data": {
      "text/plain": [
       "'mrnng'"
      ]
     },
     "execution_count": 1,
     "metadata": {},
     "output_type": "execute_result"
    }
   ],
   "source": [
    "a = \"morning\"\n",
    "a = list(a)\n",
    "b = []\n",
    "word = ''\n",
    "for i in range(0, len(a)):\n",
    "    if(a[i] not in ['a', 'e', 'i', 'o', 'u']):\n",
    "        b.append(a[i])\n",
    "word.join(b)"
   ]
  },
  {
   "cell_type": "markdown",
   "metadata": {},
   "source": [
    "## Print the longest word among the given string. If two or more words are longer then print the first one."
   ]
  },
  {
   "cell_type": "code",
   "execution_count": 2,
   "metadata": {},
   "outputs": [
    {
     "name": "stdout",
     "output_type": "stream",
     "text": [
      "Morning\n"
     ]
    }
   ],
   "source": [
    "a = 'Good Morning'\n",
    "b = a.split()\n",
    "maxLength = b[0]\n",
    "for i in b:\n",
    "    if(len(i) > len(maxLength)):\n",
    "        maxLength = i \n",
    "print(maxLength)"
   ]
  },
  {
   "cell_type": "markdown",
   "metadata": {},
   "source": [
    "## Print the kth palindrome number within the given inclusive range (n, m)"
   ]
  },
  {
   "cell_type": "markdown",
   "metadata": {},
   "source": [
    "#### using a function"
   ]
  },
  {
   "cell_type": "code",
   "execution_count": 3,
   "metadata": {},
   "outputs": [
    {
     "name": "stdout",
     "output_type": "stream",
     "text": [
      "1 30\n",
      "11\n",
      "22\n"
     ]
    }
   ],
   "source": [
    "def palindrome(num):\n",
    "    rev = 0\n",
    "    num1 = num\n",
    "    while(num != 0):\n",
    "        dig = num%10\n",
    "        rev = rev*10 + dig\n",
    "        num = num // 10 \n",
    "    if(num1 == rev):\n",
    "        return True\n",
    "\n",
    "range1 = input().split()\n",
    "r1, r2 = int(range1[0]), int(range1[1])\n",
    "n = int(input())\n",
    "pal = []\n",
    "for i in range(r1, r2+1):\n",
    "    if(palindrome(i)):\n",
    "        pal.append(i)\n",
    "print(pal[n-1])"
   ]
  },
  {
   "cell_type": "markdown",
   "metadata": {},
   "source": [
    "#### without using any function"
   ]
  },
  {
   "cell_type": "code",
   "execution_count": 4,
   "metadata": {},
   "outputs": [
    {
     "name": "stdout",
     "output_type": "stream",
     "text": [
      "1 40\n",
      "12\n",
      "33\n"
     ]
    }
   ],
   "source": [
    "ra1 = input().split()\n",
    "n = int(input())\n",
    "r1 = int(ra1[0])\n",
    "r2 = int(ra1[1])\n",
    "pal = []\n",
    "\n",
    "for i in range(r1, r2+1):\n",
    "    num = num1 = i\n",
    "    rev = 0 \n",
    "    while(num != 0):\n",
    "        dig = num%10\n",
    "        rev = rev*10 + dig\n",
    "        num = num // 10 \n",
    "    if(num1 == rev):\n",
    "        pal.append(i)\n",
    "    \n",
    "print(pal[n-1])"
   ]
  }
 ],
 "metadata": {
  "kernelspec": {
   "display_name": "Python 3",
   "language": "python",
   "name": "python3"
  },
  "language_info": {
   "codemirror_mode": {
    "name": "ipython",
    "version": 3
   },
   "file_extension": ".py",
   "mimetype": "text/x-python",
   "name": "python",
   "nbconvert_exporter": "python",
   "pygments_lexer": "ipython3",
   "version": "3.7.3"
  }
 },
 "nbformat": 4,
 "nbformat_minor": 2
}
